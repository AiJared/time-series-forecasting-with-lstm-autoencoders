{
  "nbformat": 4,
  "nbformat_minor": 0,
  "metadata": {
    "colab": {
      "provenance": [],
      "authorship_tag": "ABX9TyNca8a+isE1WzVocpKrrvza",
      "include_colab_link": true
    },
    "kernelspec": {
      "name": "python3",
      "display_name": "Python 3"
    },
    "language_info": {
      "name": "python"
    }
  },
  "cells": [
    {
      "cell_type": "markdown",
      "metadata": {
        "id": "view-in-github",
        "colab_type": "text"
      },
      "source": [
        "<a href=\"https://colab.research.google.com/github/Kerriea-star/time-series-forecasting-with-lstm-autoencoders/blob/main/Time_Series_Forecasting_with_LSTM_Autoencoders.ipynb\" target=\"_parent\"><img src=\"https://colab.research.google.com/assets/colab-badge.svg\" alt=\"Open In Colab\"/></a>"
      ]
    },
    {
      "cell_type": "markdown",
      "source": [
        "\n",
        "\n",
        "*   The purpose of this work is to show one way time-series data can be effiently encoded to lower dimensions, to be used into non time-series models.\n",
        "*   Here I'll encode a time-series of size 12 (12 months) to a single value and use it on a MLP deep learning model, instead of using the time-series on a LSTM model that could be the regular approach."
      ],
      "metadata": {
        "id": "Dp4V9wkIftrb"
      }
    },
    {
      "cell_type": "markdown",
      "source": [
        "**Predict future sales**\n",
        "\n",
        "The task is to forecast the total amount of products sold in every shop for the test set. Note that the list of shops and products slightly changes every month. Creating a robust model that can handle such situations is part of the challenge.\n",
        "\n",
        "**Data fields description:**\n",
        "\n",
        "*   ID - an Id that represents a (Shop, Item) tuple within the test set\n",
        "*   shop_id - unique identifier of a shop\n",
        "*   item_id - unique identifier of a product\n",
        "*   item_category_id - unique identifier of item category\n",
        "*   date_block_num - a consecutive month number, used for convenience. January 2013 is 0, February 2013 is 1,..., October 2015 is 33\n",
        "*   date - date in format dd/mm/yyyy\n",
        "*   item_cnt_day - number of products sold. You are predicting a monthly amount of this measure\n",
        "*   item_price - current price of an item\n",
        "*   item_name - name of item\n",
        "*   shop_name - name of shop\n",
        "*   item_category_name - name of item category\n",
        "\n"
      ],
      "metadata": {
        "id": "ldYYiVL2dlQu"
      }
    },
    {
      "cell_type": "code",
      "source": [],
      "metadata": {
        "id": "nqVNurfkiKOj"
      },
      "execution_count": null,
      "outputs": []
    }
  ]
}