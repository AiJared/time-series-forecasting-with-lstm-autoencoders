{
  "nbformat": 4,
  "nbformat_minor": 0,
  "metadata": {
    "colab": {
      "provenance": [],
      "mount_file_id": "1ziTqr3L2lWoQfIC70YU8WZ4071pbSEvT",
      "authorship_tag": "ABX9TyOBRcs8CTzQX7ORO5tTzLMX",
      "include_colab_link": true
    },
    "kernelspec": {
      "name": "python3",
      "display_name": "Python 3"
    },
    "language_info": {
      "name": "python"
    }
  },
  "cells": [
    {
      "cell_type": "markdown",
      "metadata": {
        "id": "view-in-github",
        "colab_type": "text"
      },
      "source": [
        "<a href=\"https://colab.research.google.com/github/Kerriea-star/time-series-forecasting-with-lstm-autoencoders/blob/main/Time_Series_Forecasting_with_LSTM_Autoencoders.ipynb\" target=\"_parent\"><img src=\"https://colab.research.google.com/assets/colab-badge.svg\" alt=\"Open In Colab\"/></a>"
      ]
    },
    {
      "cell_type": "markdown",
      "source": [
        "\n",
        "\n",
        "*   The purpose of this work is to show one way time-series data can be effiently encoded to lower dimensions, to be used into non time-series models.\n",
        "*   Here I'll encode a time-series of size 12 (12 months) to a single value and use it on a MLP deep learning model, instead of using the time-series on a LSTM model that could be the regular approach."
      ],
      "metadata": {
        "id": "Dp4V9wkIftrb"
      }
    },
    {
      "cell_type": "markdown",
      "source": [
        "**Predict future sales**\n",
        "\n",
        "The task is to forecast the total amount of products sold in every shop for the test set. Note that the list of shops and products slightly changes every month. Creating a robust model that can handle such situations is part of the challenge.\n",
        "\n",
        "**Data fields description:**\n",
        "\n",
        "*   ID - an Id that represents a (Shop, Item) tuple within the test set\n",
        "*   shop_id - unique identifier of a shop\n",
        "*   item_id - unique identifier of a product\n",
        "*   item_category_id - unique identifier of item category\n",
        "*   date_block_num - a consecutive month number, used for convenience. January 2013 is 0, February 2013 is 1,..., October 2015 is 33\n",
        "*   date - date in format dd/mm/yyyy\n",
        "*   item_cnt_day - number of products sold. You are predicting a monthly amount of this measure\n",
        "*   item_price - current price of an item\n",
        "*   item_name - name of item\n",
        "*   shop_name - name of shop\n",
        "*   item_category_name - name of item category\n",
        "\n"
      ],
      "metadata": {
        "id": "ldYYiVL2dlQu"
      }
    },
    {
      "cell_type": "code",
      "source": [
        "# Dependencies\n",
        "import os, warnings, random\n",
        "import numpy as np\n",
        "import pandas as pd\n",
        "import matplotlib.pyplot as plt\n",
        "\n",
        "from sklearn.metrics import mean_squared_error\n",
        "from sklearn.model_selection import train_test_split\n",
        "\n",
        "import tensorflow as tf\n",
        "import keras.layers as L\n",
        "\n",
        "from keras import optimizers, Sequential, Model\n",
        "\n"
      ],
      "metadata": {
        "id": "nqVNurfkiKOj"
      },
      "execution_count": 2,
      "outputs": []
    },
    {
      "cell_type": "code",
      "source": [
        "# Set seeds to make the experiment more reproducible\n",
        "def seed_everything(seed=0):\n",
        "  random.seed(seed)\n",
        "  np.random.seed(seed)\n",
        "  tf.random.set_seed(seed)\n",
        "  os.environ['PYTHONHASHSEED'] = str(seed)\n",
        "  os.environ[\"TF_DETERMINISTIC_OPS\"] = '1'\n",
        "\n",
        "seed = 0\n",
        "seed_everything(seed)\n",
        "warnings.filterwarnings(\"ignore\")\n",
        "pd.set_option('display.float_format', lambda x: '%.2f' % x)"
      ],
      "metadata": {
        "id": "8hkh0y7vkjWB"
      },
      "execution_count": 3,
      "outputs": []
    },
    {
      "cell_type": "code",
      "source": [
        "# Loading data\n",
        "test = pd.read_csv(\"drive/MyDrive/Colab Notebooks/time-series-forecasting-with-lstm-autoencoders/data/test.csv\", dtype={\"ID\": 'int32', 'shop_id': 'int32', 'item_id': 'int32'})\n",
        "item_categories = pd.read_csv(\"drive/MyDrive/Colab Notebooks/time-series-forecasting-with-lstm-autoencoders/data/test.csv\", dtype={'item_category': 'str', 'item_category_id': 'int32'})\n",
        "items = pd.read_csv(\"drive/MyDrive/Colab Notebooks/time-series-forecasting-with-lstm-autoencoders/data/items.csv\", dtype={\"item_name\": 'str', 'item_id': 'int32'})\n",
        "shops = pd.read_csv(\"drive/MyDrive/Colab Notebooks/time-series-forecasting-with-lstm-autoencoders/data/shops.csv\", dtype={'shop_name': 'str', 'shop_id': 'int32'})\n",
        "sales = pd.read_csv(\"drive/MyDrive/Colab Notebooks/time-series-forecasting-with-lstm-autoencoders/data/sales_train.csv\", parse_dates=['date'], dtype={'date': 'str', 'date_block_num': 'int32', 'shop_id': 'int32',\n",
        "                                                                                                                                                 'item_id': 'int32', 'item_price': 'float32', 'item_cnt_day': 'int32'})\n"
      ],
      "metadata": {
        "id": "L-UyEJgUl4cA"
      },
      "execution_count": 6,
      "outputs": []
    },
    {
      "cell_type": "code",
      "source": [],
      "metadata": {
        "id": "cQNLtrbV2gKp"
      },
      "execution_count": null,
      "outputs": []
    }
  ]
}